{
  "nbformat": 4,
  "nbformat_minor": 0,
  "metadata": {
    "colab": {
      "provenance": [],
      "authorship_tag": "ABX9TyP6HMd5SWzPrTLbqsbdlYA2",
      "include_colab_link": true
    },
    "kernelspec": {
      "name": "python3",
      "display_name": "Python 3"
    },
    "language_info": {
      "name": "python"
    }
  },
  "cells": [
    {
      "cell_type": "markdown",
      "metadata": {
        "id": "view-in-github",
        "colab_type": "text"
      },
      "source": [
        "<a href=\"https://colab.research.google.com/github/hwann111/airecipe/blob/main/ingredients_clustering.ipynb\" target=\"_parent\"><img src=\"https://colab.research.google.com/assets/colab-badge.svg\" alt=\"Open In Colab\"/></a>"
      ]
    },
    {
      "cell_type": "code",
      "execution_count": null,
      "metadata": {
        "id": "35CZohjxvbnT"
      },
      "outputs": [],
      "source": [
        "from sklearn.cluster import KMeans\n",
        "import pandas as pd\n",
        "import matplotlib.pyplot as plt"
      ]
    },
    {
      "cell_type": "code",
      "source": [
        "df = pd.read_csv(\"ingredients.csv\")\n",
        "\n",
        "# 첫 번째 행 복사\n",
        "X = df.iloc[0]\n",
        "\n",
        "\n",
        "# DataFrame으로 변환\n",
        "X = pd.DataFrame(X)\n",
        "\n",
        "# K-means 클러스터링 수행\n",
        "kmeans = KMeans(n_clusters=3, random_state=5)\n",
        "kmeans.fit(X)\n",
        "\n",
        "kmeans = KMeans(n_clusters=3, random_state=5)\n",
        "\n",
        "kmeans.fit(X)\n",
        "\n",
        "X_arr = X.values\n",
        "\n",
        "\n",
        "plt.scatter(X_arr[:, 0], X_arr[:, 1], c=kmeans.predict(X), cmap='viridis')\n",
        "plt.scatter(kmeans.cluster_centers_[:, 0], kmeans.cluster_centers_[:, 1], s=100, c='red')\n",
        "plt.show()\n"
      ],
      "metadata": {
        "id": "0M0hToRqY4Zt"
      },
      "execution_count": null,
      "outputs": []
    },
    {
      "cell_type": "code",
      "source": [
        "import pandas as pd\n",
        "import matplotlib.pyplot as plt\n",
        "from sklearn.cluster import KMeans\n",
        "\n",
        "# CSV 파일 읽기\n",
        "df = pd.read_csv(\"ingredients.csv\")\n",
        "\n",
        "# 첫 번째 행 가져오기\n",
        "X = df.iloc[0]\n",
        "\n",
        "# 문자열 제거\n",
        "X_numeric = X.apply(pd.to_numeric, errors='coerce').dropna()\n",
        "\n",
        "# K-means 클러스터링 수행\n",
        "kmeans = KMeans(n_clusters=10, random_state=5)\n",
        "kmeans.fit(X_numeric.values.reshape(-1, 1))\n",
        "\n",
        "# 클러스터링 결과 시각화\n",
        "plt.scatter(range(len(X_numeric)), X_numeric.values, c=kmeans.labels_, cmap='viridis')\n",
        "plt.scatter(range(len(kmeans.cluster_centers_)), kmeans.cluster_centers_, s=100, c='red')\n",
        "plt.show()\n"
      ],
      "metadata": {
        "colab": {
          "base_uri": "https://localhost:8080/",
          "height": 486
        },
        "id": "GBH6g-8Xg8eO",
        "outputId": "1fa71f12-38d2-454e-b49f-4046eee61c2b"
      },
      "execution_count": null,
      "outputs": [
        {
          "output_type": "stream",
          "name": "stderr",
          "text": [
            "/usr/local/lib/python3.10/dist-packages/sklearn/cluster/_kmeans.py:870: FutureWarning: The default value of `n_init` will change from 10 to 'auto' in 1.4. Set the value of `n_init` explicitly to suppress the warning\n",
            "  warnings.warn(\n"
          ]
        },
        {
          "output_type": "display_data",
          "data": {
            "text/plain": [
              "<Figure size 640x480 with 1 Axes>"
            ],
            "image/png": "[encoded data removed]"
          },
          "metadata": {}
        }
      ]
    },
    {
      "cell_type": "code",
      "source": [
        "import pandas as pd\n",
        "import seaborn as sns\n",
        "import matplotlib.pyplot as plt\n",
        "from sklearn.cluster import KMeans\n",
        "\n",
        "# CSV 파일 읽기\n",
        "df = pd.read_csv(\"ingredients.csv\")\n",
        "\n",
        "# 첫 번째 행 가져오기\n",
        "X = df.iloc[0]\n",
        "\n",
        "# 문자열 제거\n",
        "X_numeric = X.apply(pd.to_numeric, errors='coerce').dropna()\n",
        "\n",
        "# K-means 클러스터링 수행\n",
        "kmeans = KMeans(n_clusters=10, random_state=5)\n",
        "kmeans.fit(X_numeric.values.reshape(-1, 1))\n",
        "\n",
        "# 클러스터링 결과를 데이터프레임으로 변환\n",
        "result_df = pd.DataFrame({'Ingredient': X_numeric.index, 'Cluster': kmeans.labels_})\n",
        "\n",
        "# 히트맵으로 클러스터링 결과 표시\n",
        "result_matrix = result_df.pivot_table(index='Ingredient', columns='Cluster', fill_value=0)\n",
        "plt.figure(figsize=(8, 6))\n",
        "sns.heatmap(result_matrix, cmap='viridis', annot=True, fmt='d')\n",
        "plt.show()\n"
      ],
      "metadata": {
        "id": "UNmqQrrHiyG7"
      },
      "execution_count": null,
      "outputs": []
    }
  ]
}