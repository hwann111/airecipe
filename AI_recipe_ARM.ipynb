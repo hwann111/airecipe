{
  "cells": [
    {
      "cell_type": "markdown",
      "metadata": {
        "id": "view-in-github",
        "colab_type": "text"
      },
      "source": [
        "<a href=\"https://colab.research.google.com/github/hwann111/airecipe/blob/main/AI_recipe_ARM.ipynb\" target=\"_parent\"><img src=\"https://colab.research.google.com/assets/colab-badge.svg\" alt=\"Open In Colab\"/></a>"
      ]
    },
    {
      "cell_type": "code",
      "execution_count": null,
      "metadata": {
        "colab": {
          "base_uri": "https://localhost:8080/"
        },
        "id": "06Hoa_peD1-w",
        "outputId": "2a157db8-56b8-4557-8dd9-49d36b832f32"
      },
      "outputs": [
        {
          "name": "stdout",
          "output_type": "stream",
          "text": [
            "Collecting mlxtend\n",
            "  Downloading mlxtend-0.23.1-py3-none-any.whl.metadata (7.3 kB)\n",
            "Requirement already satisfied: scipy>=1.2.1 in /usr/local/lib/python3.10/dist-packages (from mlxtend) (1.13.1)\n",
            "Requirement already satisfied: numpy>=1.16.2 in /usr/local/lib/python3.10/dist-packages (from mlxtend) (1.26.4)\n",
            "Requirement already satisfied: pandas>=0.24.2 in /usr/local/lib/python3.10/dist-packages (from mlxtend) (2.1.4)\n",
            "Requirement already satisfied: scikit-learn>=1.0.2 in /usr/local/lib/python3.10/dist-packages (from mlxtend) (1.3.2)\n",
            "Requirement already satisfied: matplotlib>=3.0.0 in /usr/local/lib/python3.10/dist-packages (from mlxtend) (3.7.1)\n",
            "Requirement already satisfied: joblib>=0.13.2 in /usr/local/lib/python3.10/dist-packages (from mlxtend) (1.4.2)\n",
            "Requirement already satisfied: contourpy>=1.0.1 in /usr/local/lib/python3.10/dist-packages (from matplotlib>=3.0.0->mlxtend) (1.2.1)\n",
            "Requirement already satisfied: cycler>=0.10 in /usr/local/lib/python3.10/dist-packages (from matplotlib>=3.0.0->mlxtend) (0.12.1)\n",
            "Requirement already satisfied: fonttools>=4.22.0 in /usr/local/lib/python3.10/dist-packages (from matplotlib>=3.0.0->mlxtend) (4.53.1)\n",
            "Requirement already satisfied: kiwisolver>=1.0.1 in /usr/local/lib/python3.10/dist-packages (from matplotlib>=3.0.0->mlxtend) (1.4.5)\n",
            "Requirement already satisfied: packaging>=20.0 in /usr/local/lib/python3.10/dist-packages (from matplotlib>=3.0.0->mlxtend) (24.1)\n",
            "Requirement already satisfied: pillow>=6.2.0 in /usr/local/lib/python3.10/dist-packages (from matplotlib>=3.0.0->mlxtend) (10.4.0)\n",
            "Requirement already satisfied: pyparsing>=2.3.1 in /usr/local/lib/python3.10/dist-packages (from matplotlib>=3.0.0->mlxtend) (3.1.2)\n",
            "Requirement already satisfied: python-dateutil>=2.7 in /usr/local/lib/python3.10/dist-packages (from matplotlib>=3.0.0->mlxtend) (2.9.0.post0)\n",
            "Requirement already satisfied: pytz>=2020.1 in /usr/local/lib/python3.10/dist-packages (from pandas>=0.24.2->mlxtend) (2024.1)\n",
            "Requirement already satisfied: tzdata>=2022.1 in /usr/local/lib/python3.10/dist-packages (from pandas>=0.24.2->mlxtend) (2024.1)\n",
            "Requirement already satisfied: threadpoolctl>=2.0.0 in /usr/local/lib/python3.10/dist-packages (from scikit-learn>=1.0.2->mlxtend) (3.5.0)\n",
            "Requirement already satisfied: six>=1.5 in /usr/local/lib/python3.10/dist-packages (from python-dateutil>=2.7->matplotlib>=3.0.0->mlxtend) (1.16.0)\n",
            "Downloading mlxtend-0.23.1-py3-none-any.whl (1.4 MB)\n",
            "\u001b[2K   \u001b[90m━━━━━━━━━━━━━━━━━━━━━━━━━━━━━━━━━━━━━━━━\u001b[0m \u001b[32m1.4/1.4 MB\u001b[0m \u001b[31m7.5 MB/s\u001b[0m eta \u001b[36m0:00:00\u001b[0m\n",
            "\u001b[?25hInstalling collected packages: mlxtend\n",
            "Successfully installed mlxtend-0.23.1\n"
          ]
        }
      ],
      "source": [
        "!pip install mlxtend"
      ]
    },
    {
      "cell_type": "code",
      "execution_count": null,
      "metadata": {
        "id": "EcrphlSfeqN8"
      },
      "outputs": [],
      "source": [
        "import pandas as pd\n",
        "import re\n",
        "from mlxtend.frequent_patterns import apriori, association_rules\n",
        "from mlxtend.preprocessing import TransactionEncoder\n",
        "from mlxtend.frequent_patterns import apriori\n",
        "import json\n",
        "import itertools"
      ]
    },
    {
      "cell_type": "code",
      "execution_count": null,
      "metadata": {
        "colab": {
          "base_uri": "https://localhost:8080/"
        },
        "id": "F2OvEcRfack9",
        "outputId": "7a0b6512-a8ab-4aee-e74e-0455dc4ce2ea"
      },
      "outputs": [
        {
          "name": "stderr",
          "output_type": "stream",
          "text": [
            "/usr/local/lib/python3.10/dist-packages/ipykernel/ipkernel.py:283: DeprecationWarning: `should_run_async` will not call `transform_cell` automatically in the future. Please pass the result to `transformed_cell` argument and any exception that happen during thetransform in `preprocessing_exc_tuple` in IPython 7.17 and above.\n",
            "  and should_run_async(code)\n"
          ]
        },
        {
          "name": "stdout",
          "output_type": "stream",
          "text": [
            "Drive already mounted at /content/drive; to attempt to forcibly remount, call drive.mount(\"/content/drive\", force_remount=True).\n"
          ]
        }
      ],
      "source": [
        "from google.colab import drive\n",
        "drive.mount('/content/drive')"
      ]
    },
    {
      "cell_type": "code",
      "execution_count": null,
      "metadata": {
        "colab": {
          "base_uri": "https://localhost:8080/"
        },
        "id": "aD7EQ4dUaUcG",
        "outputId": "e3915044-68a1-47e8-9b46-4e40827ae3fe"
      },
      "outputs": [
        {
          "name": "stderr",
          "output_type": "stream",
          "text": [
            "/usr/local/lib/python3.10/dist-packages/ipykernel/ipkernel.py:283: DeprecationWarning: `should_run_async` will not call `transform_cell` automatically in the future. Please pass the result to `transformed_cell` argument and any exception that happen during thetransform in `preprocessing_exc_tuple` in IPython 7.17 and above.\n",
            "  and should_run_async(code)\n"
          ]
        }
      ],
      "source": [
        "# CSV 파일로부터 데이터 읽기\n",
        "json_file_path = '/content/drive/My Drive/recipedata/test.json'\n",
        "with open(json_file_path, 'r', encoding = 'utf-8') as json_file:\n",
        "  data = json.load(json_file)"
      ]
    },
    {
      "cell_type": "code",
      "execution_count": null,
      "metadata": {
        "colab": {
          "base_uri": "https://localhost:8080/"
        },
        "id": "_ayuOmEdavrX",
        "outputId": "c788843a-3a86-40f6-9a58-46cafb5e846a"
      },
      "outputs": [
        {
          "name": "stderr",
          "output_type": "stream",
          "text": [
            "/usr/local/lib/python3.10/dist-packages/ipykernel/ipkernel.py:283: DeprecationWarning: `should_run_async` will not call `transform_cell` automatically in the future. Please pass the result to `transformed_cell` argument and any exception that happen during thetransform in `preprocessing_exc_tuple` in IPython 7.17 and above.\n",
            "  and should_run_async(code)\n"
          ]
        }
      ],
      "source": [
        "df = pd.DataFrame(data)\n",
        "sampled_df = df.sample(frac=0.01, random_state=42)\n"
      ]
    },
    {
      "cell_type": "code",
      "execution_count": null,
      "metadata": {
        "colab": {
          "base_uri": "https://localhost:8080/"
        },
        "id": "HhZaSJdPqZZK",
        "outputId": "1acd18e3-e1e7-40da-d720-1df171b4ceca"
      },
      "outputs": [
        {
          "name": "stdout",
          "output_type": "stream",
          "text": [
            "         id                                        ingredients\n",
            "8772  25273  [black pepper, bacon slices, garlic powder, fr...\n",
            "6425  42319  [extra-virgin olive oil, herbes de provence, g...\n",
            "7890  10810  [powdered sugar, golden raisins, zabaglione, l...\n",
            "6599  28737  [salad greens, seasoned rice wine vinegar, low...\n",
            "3350  25321  [eggs, grating cheese, pepper, ham, cream, sal...\n",
            "...     ...                                                ...\n",
            "7701  44136  [lime slices, cranberry juice, southern comfor...\n",
            "3543  17354  [whole wheat flour, maida flour, cubed potatoe...\n",
            "6444  37772  [chicken broth, pork tenderloin, olive oil, la...\n",
            "4883  14985  [warm water, grated parmesan cheese, marjoram,...\n",
            "2478  26715  [sugar, anchovy paste, scallions, fresh ginger...\n",
            "\n",
            "[99 rows x 2 columns]\n"
          ]
        },
        {
          "name": "stderr",
          "output_type": "stream",
          "text": [
            "/usr/local/lib/python3.10/dist-packages/ipykernel/ipkernel.py:283: DeprecationWarning: `should_run_async` will not call `transform_cell` automatically in the future. Please pass the result to `transformed_cell` argument and any exception that happen during thetransform in `preprocessing_exc_tuple` in IPython 7.17 and above.\n",
            "  and should_run_async(code)\n"
          ]
        }
      ],
      "source": [
        "print(sampled_df)"
      ]
    },
    {
      "cell_type": "code",
      "execution_count": null,
      "metadata": {
        "colab": {
          "base_uri": "https://localhost:8080/"
        },
        "id": "kWeCe7cgxL9c",
        "outputId": "7a40d651-974e-474a-ea1f-7c1e43d46904"
      },
      "outputs": [
        {
          "name": "stderr",
          "output_type": "stream",
          "text": [
            "/usr/local/lib/python3.10/dist-packages/ipykernel/ipkernel.py:283: DeprecationWarning: `should_run_async` will not call `transform_cell` automatically in the future. Please pass the result to `transformed_cell` argument and any exception that happen during thetransform in `preprocessing_exc_tuple` in IPython 7.17 and above.\n",
            "  and should_run_async(code)\n"
          ]
        }
      ],
      "source": [
        "all_ingredients = []\n",
        "for index, row in sampled_df.iterrows():\n",
        "    ingredients = row['ingredients']\n",
        "    all_ingredients.append(ingredients)  # 각각의 ingredients를 리스트에 추가"
      ]
    },
    {
      "cell_type": "code",
      "execution_count": null,
      "metadata": {
        "colab": {
          "base_uri": "https://localhost:8080/"
        },
        "id": "pCWpQ7NPwbpQ",
        "outputId": "5e73e29f-e265-4e62-9393-f75078cc932a"
      },
      "outputs": [
        {
          "name": "stdout",
          "output_type": "stream",
          "text": [
            "[['black pepper', 'bacon slices', 'garlic powder', 'fresh parsley', 'dried thyme', 'white cheddar cheese', 'cooking spray', 'grits'], ['extra-virgin olive oil', 'herbes de provence', 'goat cheese', 'pastis', 'chèvre'], ['powdered sugar', 'golden raisins', 'zabaglione', 'large egg yolks', 'salt', 'yellow corn meal', 'unsalted butter', 'all-purpose flour', 'sugar', 'italian moscato', 'grated lemon peel'], ['salad greens', 'seasoned rice wine vinegar', 'low sodium soy sauce', 'fresh ginger', 'carrots', 'honey', 'dark sesame oil', 'sliced almonds', 'cooked chicken', 'snow peas'], ['eggs', 'grating cheese', 'pepper', 'ham', 'cream', 'salt', 'self raising flour', 'milk', 'onions'], ['cider vinegar', 'black sesame seeds', 'ginger', 'rice vinegar', 'garlic cloves', 'radishes', 'rice noodles', 'purple onion', 'scallions', 'cucumber', 'Sriracha', 'cilantro', 'salt', 'catfish', 'greek yogurt', 'honey', 'sesame oil', 'tamari soy sauce', 'edamame', 'carrots'], ['ground black pepper', 'russet potatoes', 'leg of lamb', 'beef stock', 'extra-virgin olive oil', 'fresh thyme', 'large garlic cloves', 'onions', 'fresh rosemary', 'savory', 'salt'], ['part-skim ricotta cheese', 'unsweetened cocoa powder', 'slivered almonds', 'confectioners sugar', 'amaretto liqueur', 'cocktail cherries', 'cannoli shells', 'semi-sweet chocolate morsels'], ['purple onion', 'garlic cloves', 'ground black pepper', 'lemon rind', 'flat leaf parsley', 'olive oil', 'salt', 'fresh lemon juice', 'cannellini beans', 'chopped fresh sage'], ['eggs', 'sugar', 'all-purpose flour', 'fresh dill', 'baking powder', 'walnuts', 'tumeric', 'cilantro', 'greens', 'mint', 'batter', 'fenugreek seeds'], ['salt', 'lime juice', 'honeydew melon', 'sugar'], ['fresh coriander', 'vegetable oil', 'green pepper', 'onions', 'tomatoes', 'bay leaves', 'garlic', 'ground coriander', 'ground cumin', 'clove', 'garam masala', 'ginger', 'cardamom pods', 'chicken', 'tumeric', 'chili powder', 'salt', 'mustard seeds'], ['fresh ginger root', 'ground coriander', 'coriander', 'braising steak', 'yoghurt', 'chillies', 'ground cumin', 'garam masala', 'garlic cloves', 'ground turmeric', 'chopped tomatoes', 'sunflower oil', 'onions'], ['avocado', 'frozen sweet corn', 'shredded reduced fat cheddar cheese', 'chipotle peppers', 'pico de gallo', 'black pepper', 'salt', 'ground cumin', 'light sour cream', 'canned black beans', 'chicken cutlets', 'chopped cilantro', 'romaine lettuce', 'lime juice', 'baked tortilla chips'], ['eggs', 'processed cheese', 'salt', 'seasoning salt', 'butter', 'water', 'quickcooking grits', 'hot pepper sauce', 'worcestershire sauce'], ['reduced fat reduced sodium cream of mushroom soup', 'chopped tomatoes', 'cream cheese', 'reduced fat reduced sodium condensed cream of chicken soup', 'portabello mushroom', 'boneless skinless chicken breast halves', 'chicken broth', 'olive oil', 'crushed red pepper flakes', 'pastry', 'salt and ground black pepper', 'frozen mixed thawed vegetables,'], ['lettuce', 'lime', 'red pepper flakes', 'shredded cheese', 'tomatoes', 'boneless skinless chicken breasts', 'salt', 'soft corn tortillas', 'avocado', 'garlic powder', 'onion flakes', 'sour cream', 'water', 'chili powder', 'salsa', 'cumin'], ['flour', 'cornmeal', 'eggs', 'salt', 'baking powder', 'milk', 'oil'], ['ground nutmeg', 'chop fine pecan', 'all purpose unbleached flour', 'sour cream', 'milk', 'unsalted butter', 'whole milk', 'salt', 'sugar', 'bananas', 'egg yolks', 'vanilla extract', 'pineapple slices', 'golden brown sugar', 'large eggs', 'baking powder', 'butter pecan ice cream'], ['yellow corn meal', 'unsalted butter', 'salt', 'shredded cheddar cheese', 'baking powder', 'sugar', 'large eggs', 'all-purpose flour', 'baking soda', 'buttermilk'], ['avocado', 'shredded cheddar cheese', 'red pepper', 'lemon juice', 'red chili peppers', 'tortillas', 'green chilies', 'tomatoes', 'ground black pepper', 'sea salt', 'sour cream', 'fresh coriander', 'spring onions', 'beer'], ['salmon fillets', 'mirin', 'freshly ground pepper', 'fresh ginger', 'salt', 'soy sauce', 'green onions', 'toasted sesame oil', 'white miso', 'rice vinegar'], ['fresh dill', 'feta cheese', 'coarse salt', 'pink peppercorns', 'fresh oregano', 'leg of lamb', 'fresh rosemary', 'olive oil', 'lemon zest', 'lemon', 'purple onion', 'garlic cloves', 'tomatoes', 'water', 'granulated sugar', 'balsamic vinegar', 'extra-virgin olive oil', 'freshly ground pepper', 'black peppercorns', 'pitas', 'shallots', 'red pepper flakes', 'cayenne pepper', 'fresh lemon juice'], ['green bell pepper', 'diced tomatoes', 'chili powder', 'salt', 'water', 'white rice', 'vegetable oil', 'onions'], ['fish sauce', 'fresh ginger root', 'vegetable oil', 'coconut milk', 'onions', 'water', 'potatoes', 'green pepper', 'bay leaf', 'fresh coriander', 'lemon grass', 'garlic', 'lime leaves', 'chicken', 'chicken stock', 'curry powder', 'shallots', 'carrots', 'chillies'], ['avocado', 'fajita seasoning mix', 'lemon flavor yogurt', 'eggs', 'shredded Monterey Jack cheese', 'cornmeal'], ['eggplant', 'pizza doughs', 'grape tomatoes', 'extra-virgin olive oil', 'fresh mint', 'flour', 'garlic cloves', 'fontina', 'salt', 'fresh basil leaves'], ['boneless skinless chicken breasts', 'lime wedges', 'ground turmeric', 'plain low-fat yogurt', 'mango chutney', 'ground coriander', 'ground ginger', 'ground red pepper', 'salt', 'ground cumin', 'cooking spray', 'chili powder', 'garlic cloves'], ['mango', 'lime wedges', 'buttermilk', 'sugar'], ['cotija', 'whole wheat tortillas', 'boneless skinless chicken breast halves', 'black-eyed peas', 'purple onion', 'ground cumin', 'chopped tomatoes', 'vegetable broth', 'dried oregano', 'romaine lettuce', 'chili pepper flakes', 'lemon juice'], ['fish sauce', 'shallots', 'garlic cloves', 'Japanese turnips', 'rice vermicelli', 'fresh lime juice', 'light brown sugar', 'radishes', 'bone-in chicken breasts', 'fresno chiles', 'kosher salt', 'vegetable oil', 'sweet basil'], ['dried basil', 'bay leaves', 'garlic', 'beef broth', 'onions', 'green bell pepper', 'garlic powder', 'worcestershire sauce', 'salt', 'fresh parsley leaves', 'kosher salt', 'ground black pepper', 'diced tomatoes', 'all-purpose flour', 'diced celery', 'dried thyme', 'vegetable oil', 'boneless beef chuck roast', 'hot sauce'], ['black pepper', 'grated parmesan cheese', 'garlic cloves', 'large egg whites', 'green onions', 'fresh mint', 'phyllo dough', 'swiss chard', 'salt', 'fresh parsley', 'white onion', 'cooking spray', 'feta cheese crumbles'], ['mozzarella cheese', 'grated parmesan cheese', 'salt', 'chicken broth', 'ground pepper', 'diced tomatoes', 'arborio rice', 'olive oil', 'dry white wine', 'fresh basil', 'finely chopped onion', 'garlic'], ['sweet relish', 'iceberg lettuce', 'pineapple chunks', 'bay leaves', 'pepper', 'mayonaise', 'prepared mustard'], ['tomatoes', 'black pepper', 'zucchini', 'salt', 'eggs', 'manchego cheese', 'butter', 'all-purpose flour', 'melted butter', 'cream', 'epazote', 'crème fraîche', 'chicken broth', 'skim milk', 'ground nutmeg', 'garlic', 'onions'], ['mirin', 'soy sauce', 'garlic cloves', 'boneless chicken thighs', 'sugar', 'green onions'], ['fennel bulb', 'provolone cheese', 'yellow corn meal', 'sweet italian sausage', 'onions', 'water', 'pizza doughs', 'large eggs', 'red bell pepper'], ['grated parmesan cheese', 'whipping cream', 'fettucine', 'dried sage', 'diced tomatoes in juice', 'olive oil', 'large garlic cloves', 'sausage casings', 'shallots'], ['ground cinnamon', 'guajillo chiles', 'salt', 'ancho chile pepper', 'boiling water', 'white bread', 'sugar', 'raisins', 'chopped onion', 'fresh lime juice', 'unsweetened cocoa powder', 'tomatoes', 'ground cloves', 'vegetable broth', 'garlic cloves', 'toasted sesame seeds', 'ground cumin', 'tofu', 'slivered almonds', 'vegetable oil', 'cilantro leaves', 'corn tortillas', 'dried oregano'], ['lapsang', 'freshly ground pepper', 'granny smith apples', 'chicken breasts', 'red bell pepper', 'soy sauce', 'light mayonnaise', 'garlic cloves', 'fresh ginger', 'yellow bell pepper'], ['tomato paste', 'chopped fresh thyme', 'chopped onion', 'olive oil', 'diced tomatoes', 'large shrimp', 'fresh basil', 'large garlic cloves', 'red bell pepper', 'fennel seeds', 'dry white wine', 'kalamata'], ['purple onion', 'dried basil', 'plum tomatoes', 'bread slices', 'balsamic vinaigrette salad dressing', 'dried oregano'], ['sugar', 'baking soda', 'garlic', 'ramen', 'water', 'sesame oil', 'Chinese egg noodles', 'soy sauce', 'beef', 'oil', 'dark soy sauce', 'light soy sauce', 'choy sum', 'corn starch'], ['water', 'salt', 'pasta', 'parmesan cheese', 'lemon juice', 'olive oil', 'hot Italian sausages', 'minced garlic', 'whole wheat spaghetti', 'arugula'], ['kosher salt', 'duck fat', 'caraway seeds', 'unsalted butter', 'ground black pepper', 'sweet onion', 'yukon gold potatoes'], ['water', 'sesame oil', 'garlic cloves', 'red bell pepper', 'brown sugar', 'hoisin sauce', 'cooking wine', 'carrots', 'chicken', 'fresh ginger', 'crushed red pepper flakes', 'oyster sauce', 'celery', 'soy sauce', 'broccoli florets', 'rice vinegar', 'sliced mushrooms'], ['light soy sauce', 'salt', 'shao hsing wine', 'sugar', 'sesame oil', 'scallions', 'cold water', 'young ginger', 'peanut oil', 'noodles', 'white pepper', 'vegetable stock', 'oyster sauce'], ['asparagus', 'flank steak', 'garlic cloves', 'sake', 'green onions', 'dark brown sugar', 'red bell pepper', 'peeled fresh ginger', 'balsamic vinegar', 'corn starch', 'soy sauce', 'crimini mushrooms', 'peanut oil'], ['yellow corn meal', 'olive oil', 'yellow onion', 'pesto', 'salt', 'shrimp', 'vegetable oil cooking spray', 'grated parmesan cheese', 'pizza doughs', 'pepper', 'all-purpose flour', 'red bell pepper'], ['parmigiano reggiano cheese', 'fine sea salt', 'red wine vinegar', 'escarole', 'fennel bulb', 'extra-virgin olive oil', 'frisee', 'shallots', 'fresh lemon juice'], ['feta cheese', 'shrimp', 'cottage cheese', 'salt', 'tomatoes', 'fresh thyme', 'spaghetti', 'pepper', 'scallions'], ['short-grain rice', 'dry white wine', 'garlic cloves', 'baby spinach leaves', 'grated parmesan cheese', 'loosely packed fresh basil leaves', 'unsalted butter', 'Italian parsley leaves', 'low salt chicken broth', 'water', 'leeks', 'extra-virgin olive oil'], ['crushed tomatoes', 'vegetable oil', 'ground coriander', 'serrano chile', 'sugar', 'garam masala', 'salt', 'onions', 'tomato paste', 'fresh ginger', 'heavy cream', 'garlic cloves', 'ground cumin', 'plain yogurt', 'boneless skinless chicken breasts', 'cayenne pepper', 'chopped cilantro fresh'], ['coconut oil', 'vegetables', 'cumin seed', 'grated coconut', 'salt', 'red chili peppers', 'yoghurt', 'ground turmeric', 'curry leaves', 'water', 'green chilies'], ['bread', 'salt', 'chopped parsley', 'cumin', 'curry powder', 'lemon juice', 'yukon gold', 'minced garlic', 'nonfat yogurt plain', 'salad oil', 'cayenne', 'cucumber', 'onions'], ['clove', 'green peas', 'cinnamon sticks', 'water', 'cardamom pods', 'cashew nuts', 'slivered almonds', 'salt', 'onions', 'vegetable oil', 'cumin seed', 'basmati rice'], ['head on shrimp', 'garlic cloves', 'lemon', 'kosher salt', 'extra-virgin olive oil'], ['baby greens', 'vinaigrette', 'shallots', 'fresh chervil', 'mirlitons', 'coarse salt', 'chives', 'dill tips'], ['red lentils', 'pumpkin', 'extra-virgin olive oil', 'organic vegetable broth', 'ground cumin', 'ground black pepper', 'lime wedges', 'chopped onion', 'chopped cilantro fresh', 'ground ginger', 'ground red pepper', 'salt', 'garlic cloves', 'jalapeno chilies', 'diced tomatoes', 'ground coriander', 'ground turmeric'], ['olive oil', 'chickpeas', 'cooked rice', 'garam masala', 'onions', 'tomato paste', 'fresh ginger', 'chopped cilantro', 'crushed tomatoes', 'greek style plain yogurt', 'serrano chile'], ['sugar', 'strawberries', 'marsala wine'], ['pepper', 'bay leaves', 'adobo sauce', 'lime juice', 'salt', 'oregano', 'water', 'garlic', 'onions', 'ground cloves', 'beef', 'oil', 'ground cumin'], ['light brown sugar', 'cracked black pepper', 'cajun seasoning', 'cane syrup', 'cinnamon', 'ham', 'creole mustard', 'apple cider'], ['white sugar', 'water', 'quinces'], ['eggs', 'spring onions', 'ground white pepper', 'red chili peppers', 'oil', 'oysters', 'rice flour', 'fish sauce', 'cilantro leaves', 'beansprouts'], ['minced garlic', 'yukon gold potatoes', 'ground coriander', 'bone in chicken thighs', 'chicken legs', 'flour', 'Bengali 5 Spice', 'red bell pepper', 'fresh ginger', 'vegetable oil', 'carrots', 'kosher salt', 'bay leaves', 'yellow bell pepper', 'plain whole-milk yogurt'], ['baby spinach leaves', 'ginger', 'fish sauce', 'peanuts', 'chillies', 'lime', 'cilantro leaves', 'sugar', 'shallots'], ['tomatoes', 'butter', 'tomato ketchup', 'garlic cloves', 'garam masala', 'paneer', 'oil', 'bay leaf', 'red chili peppers', 'kasuri methi', 'green chilies', 'cinnamon sticks', 'clove', 'yoghurt', 'salt', 'cardamom', 'onions'], ['sea salt', 'nori', 'hard-boiled egg', 'edamame', 'brown rice', 'toasted sesame seeds', 'green tea', 'ginger'], ['dried basil', 'diced tomatoes', 'red bell pepper', 'tomato paste', 'red wine vinegar', 'extra-virgin olive oil', 'dried oregano', 'cooking spray', 'dry red wine', 'fresh parsley', 'kosher salt', 'large garlic cloves', 'chopped onion'], ['reduced fat cheddar cheese', 'cream style corn', 'diced tomatoes', 'whole kernel corn, drain', 'chicken broth', 'minced garlic', 'chili powder', 'salt', 'black pepper', 'processed cheese', 'mexicorn', 'long grain white rice', 'green bell pepper', 'water', 'chile pepper', 'yellow onion'], ['ground cinnamon', 'rolled oats', 'lemon', 'fine sea salt', 'natural vanilla extract', 'crumble topping', 'bourbon whiskey', 'extra-virgin olive oil', 'maple syrup', 'brown sugar', 'peaches', 'sea salt', 'pastry flour', 'black pepper', 'butter', 'vanilla extract', 'dark brown sugar'], ['sugar', 'heavy cream', 'large egg yolks', 'hazelnuts', 'whole milk'], ['chicken broth', 'olive oil', 'garlic', 'chicken', 'sweet onion', 'red wine', 'thyme', 'pearl onions', 'bacon', 'bay leaf', 'cremini mushrooms', 'flour', 'baby carrots'], ['worcestershire sauce', 'fresh lemon juice', 'mushrooms', 'anchovy fillets', 'unsalted butter', 'heavy cream', 'onions', 'rotelle', 'fresh parsley leaves'], ['lemon zest', 'vanilla extract', 'vegetable oil', 'cream cheese', 'flour tortillas', 'strawberries', 'sugar', 'cinnamon', 'sour cream'], ['fresh thyme', 'salt', 'juice', 'water', 'garlic', 'rice', 'tomato sauce', 'paprika', 'chickpeas', 'olive oil', 'purple onion', 'sweet paprika'], ['sugar pea', 'grated parmesan cheese', 'arborio rice', 'fat free less sodium chicken broth', 'dry white wine', 'cooked ham', 'olive oil', 'garlic cloves', 'black pepper', 'leeks'], ['fennel seeds', 'ground black pepper', 'yellow onion', 'tomato sauce', 'diced tomatoes', 'flat leaf parsley', 'fresh basil', 'red wine', 'garlic cloves', 'olive oil', 'salt', 'italian seasoning'], ['curry powder', 'green onions', 'coconut milk', 'tomato paste', 'fresh ginger', 'salt', 'red lentils', 'olive oil', 'brown rice', 'water', 'sweet potatoes', 'carrots'], ['refried beans', 'lean ground beef', 'tomatoes', 'flour tortillas', 'chopped cilantro', 'seasoning', 'shredded mild cheddar cheese', 'chopped onion', 'sausage casings', 'jalapeno chilies', 'sliced green onions'], ['asian eggplants', 'fresh ginger', 'basil leaves', 'garlic cloves', 'fresh coriander', 'roast', 'sauce', 'lime leaves', 'chicken stock', 'cherry tomatoes', 'mint leaves', 'green chilies', 'fresh pineapple', 'brown sugar', 'cooking oil', 'red curry paste', 'coconut milk'], ['sugar', 'pineapple', 'lime', 'watermelon', 'water', 'fresh lime juice'], ['vegetable oil', 'frozen strawberries', 'eggs', 'all-purpose flour', 'ground cinnamon', 'salt', 'white sugar', 'baking powder', 'chopped walnuts'], ['sugar', 'peeled fresh ginger', 'fresh lime juice', 'lower sodium soy sauce', 'light coconut milk', 'chile paste', 'shallots', 'boneless skinless chicken breast halves', 'cooking spray', 'salt'], ['wide rice noodles', 'soy sauce', 'honey', 'sesame oil', 'rice vinegar', 'chopped cilantro fresh', 'fish sauce', 'minced garlic', 'salt and ground black pepper', 'napa cabbage', 'celery', 'chicken stock', 'red chili peppers', 'lime', 'extra large shrimp', 'chili oil', 'onions', 'eggs', 'ketchup', 'peanuts', 'vegetable oil', 'garlic chili sauce'], ['salt', 'stewed tomatoes', 'celery', 'orzo pasta', 'cayenne pepper', 'garlic', 'ground lamb'], ['white vinegar', 'boneless chuck roast', 'garlic', 'ketchup', 'worcestershire sauce', 'cayenne pepper', 'brown sugar', 'ground black pepper', 'salt', 'water', 'dry mustard'], ['eggs', 'vanilla extract', 'chopped nuts', 'flour', 'chocolate chips', 'granulated sugar', 'pie shell', 'melted butter', 'bourbon whiskey'], ['garlic powder', 'frozen corn', 'chicken broth', 'chili powder', 'cumin', 'tomato paste', 'cooked chicken', 'corn tortillas', 'cheddar cheese', 'diced tomatoes'], ['diced green chilies', 'salt', 'enchilada sauce', 'light sour cream', 'chili powder', 'frozen corn kernels', 'cumin', 'egg noodles', 'cayenne pepper', 'ground beef', 'pepper', 'shredded sharp cheddar cheese', 'cream cheese', 'shredded Monterey Jack cheese'], ['canola', 'garlic', 'onions', 'fish sauce', 'green onions', 'red bell pepper', 'fresh ginger', 'oyster sauce', 'sugar', 'boneless skinless chicken breasts', 'cooked white rice'], ['chili', 'lime juice', 'sliced green onions', 'fresh cilantro', 'avocado', 'salt'], ['lime slices', 'cranberry juice', 'southern comfort', 'fresh lime juice'], ['whole wheat flour', 'maida flour', 'cubed potatoes', 'mustard seeds', 'warm water', 'garam masala', 'peas', 'cumin seed', 'sugar', 'baking soda', 'cilantro', 'green chilies', 'ground turmeric', 'semolina', 'seeds', 'salt', 'oil'], ['chicken broth', 'pork tenderloin', 'olive oil', 'large garlic cloves', 'sun-dried tomatoes', 'fresh rosemary', 'dry white wine'], ['warm water', 'grated parmesan cheese', 'marjoram', 'dried basil', 'salt', 'bread flour', 'active dry yeast', 'butter', 'white sugar', 'dried thyme', 'dry milk powder', 'dried oregano'], ['sugar', 'anchovy paste', 'scallions', 'fresh ginger', 'salt', 'nori', 'soy sauce', 'buckwheat noodles', 'carrots', 'mirin', 'rice vinegar']]\n"
          ]
        },
        {
          "name": "stderr",
          "output_type": "stream",
          "text": [
            "/usr/local/lib/python3.10/dist-packages/ipykernel/ipkernel.py:283: DeprecationWarning: `should_run_async` will not call `transform_cell` automatically in the future. Please pass the result to `transformed_cell` argument and any exception that happen during thetransform in `preprocessing_exc_tuple` in IPython 7.17 and above.\n",
            "  and should_run_async(code)\n"
          ]
        }
      ],
      "source": [
        "print(all_ingredients)"
      ]
    },
    {
      "cell_type": "code",
      "execution_count": null,
      "metadata": {
        "colab": {
          "base_uri": "https://localhost:8080/"
        },
        "id": "cFxuBVjboY2f",
        "outputId": "c96d4f97-a2f5-47e5-82b0-ab3f392526dd"
      },
      "outputs": [
        {
          "name": "stdout",
          "output_type": "stream",
          "text": [
            "[['black pepper', 'bacon slices', 'garlic powder', 'fresh parsley', 'dried thyme', 'white cheddar cheese', 'cooking spray', 'grits'], ['extra-virgin olive oil', 'herbes de provence', 'goat cheese', 'pastis', 'chèvre'], ['powdered sugar', 'golden raisins', 'zabaglione', 'large egg yolks', 'salt', 'yellow corn meal', 'unsalted butter', 'all-purpose flour', 'sugar', 'italian moscato', 'grated lemon peel'], ['salad greens', 'seasoned rice wine vinegar', 'low sodium soy sauce', 'fresh ginger', 'carrots', 'honey', 'dark sesame oil', 'sliced almonds', 'cooked chicken', 'snow peas'], ['eggs', 'grating cheese', 'pepper', 'ham', 'cream', 'salt', 'self raising flour', 'milk', 'onions'], ['cider vinegar', 'black sesame seeds', 'ginger', 'rice vinegar', 'garlic cloves', 'radishes', 'rice noodles', 'purple onion', 'scallions', 'cucumber', 'Sriracha', 'cilantro', 'salt', 'catfish', 'greek yogurt', 'honey', 'sesame oil', 'tamari soy sauce', 'edamame', 'carrots'], ['ground black pepper', 'russet potatoes', 'leg of lamb', 'beef stock', 'extra-virgin olive oil', 'fresh thyme', 'large garlic cloves', 'onions', 'fresh rosemary', 'savory', 'salt'], ['part-skim ricotta cheese', 'unsweetened cocoa powder', 'slivered almonds', 'confectioners sugar', 'amaretto liqueur', 'cocktail cherries', 'cannoli shells', 'semi-sweet chocolate morsels'], ['purple onion', 'garlic cloves', 'ground black pepper', 'lemon rind', 'flat leaf parsley', 'olive oil', 'salt', 'fresh lemon juice', 'cannellini beans', 'chopped fresh sage'], ['eggs', 'sugar', 'all-purpose flour', 'fresh dill', 'baking powder', 'walnuts', 'tumeric', 'cilantro', 'greens', 'mint', 'batter', 'fenugreek seeds'], ['salt', 'lime juice', 'honeydew melon', 'sugar'], ['fresh coriander', 'vegetable oil', 'green pepper', 'onions', 'tomatoes', 'bay leaves', 'garlic', 'ground coriander', 'ground cumin', 'clove', 'garam masala', 'ginger', 'cardamom pods', 'chicken', 'tumeric', 'chili powder', 'salt', 'mustard seeds'], ['fresh ginger root', 'ground coriander', 'coriander', 'braising steak', 'yoghurt', 'chillies', 'ground cumin', 'garam masala', 'garlic cloves', 'ground turmeric', 'chopped tomatoes', 'sunflower oil', 'onions'], ['avocado', 'frozen sweet corn', 'shredded reduced fat cheddar cheese', 'chipotle peppers', 'pico de gallo', 'black pepper', 'salt', 'ground cumin', 'light sour cream', 'canned black beans', 'chicken cutlets', 'chopped cilantro', 'romaine lettuce', 'lime juice', 'baked tortilla chips'], ['eggs', 'processed cheese', 'salt', 'seasoning salt', 'butter', 'water', 'quickcooking grits', 'hot pepper sauce', 'worcestershire sauce'], ['reduced fat reduced sodium cream of mushroom soup', 'chopped tomatoes', 'cream cheese', 'reduced fat reduced sodium condensed cream of chicken soup', 'portabello mushroom', 'boneless skinless chicken breast halves', 'chicken broth', 'olive oil', 'crushed red pepper flakes', 'pastry', 'salt and ground black pepper', 'frozen mixed thawed vegetables,'], ['lettuce', 'lime', 'red pepper flakes', 'shredded cheese', 'tomatoes', 'boneless skinless chicken breasts', 'salt', 'soft corn tortillas', 'avocado', 'garlic powder', 'onion flakes', 'sour cream', 'water', 'chili powder', 'salsa', 'cumin'], ['flour', 'cornmeal', 'eggs', 'salt', 'baking powder', 'milk', 'oil'], ['ground nutmeg', 'chop fine pecan', 'all purpose unbleached flour', 'sour cream', 'milk', 'unsalted butter', 'whole milk', 'salt', 'sugar', 'bananas', 'egg yolks', 'vanilla extract', 'pineapple slices', 'golden brown sugar', 'large eggs', 'baking powder', 'butter pecan ice cream'], ['yellow corn meal', 'unsalted butter', 'salt', 'shredded cheddar cheese', 'baking powder', 'sugar', 'large eggs', 'all-purpose flour', 'baking soda', 'buttermilk'], ['avocado', 'shredded cheddar cheese', 'red pepper', 'lemon juice', 'red chili peppers', 'tortillas', 'green chilies', 'tomatoes', 'ground black pepper', 'sea salt', 'sour cream', 'fresh coriander', 'spring onions', 'beer'], ['salmon fillets', 'mirin', 'freshly ground pepper', 'fresh ginger', 'salt', 'soy sauce', 'green onions', 'toasted sesame oil', 'white miso', 'rice vinegar'], ['fresh dill', 'feta cheese', 'coarse salt', 'pink peppercorns', 'fresh oregano', 'leg of lamb', 'fresh rosemary', 'olive oil', 'lemon zest', 'lemon', 'purple onion', 'garlic cloves', 'tomatoes', 'water', 'granulated sugar', 'balsamic vinegar', 'extra-virgin olive oil', 'freshly ground pepper', 'black peppercorns', 'pitas', 'shallots', 'red pepper flakes', 'cayenne pepper', 'fresh lemon juice'], ['green bell pepper', 'diced tomatoes', 'chili powder', 'salt', 'water', 'white rice', 'vegetable oil', 'onions'], ['fish sauce', 'fresh ginger root', 'vegetable oil', 'coconut milk', 'onions', 'water', 'potatoes', 'green pepper', 'bay leaf', 'fresh coriander', 'lemon grass', 'garlic', 'lime leaves', 'chicken', 'chicken stock', 'curry powder', 'shallots', 'carrots', 'chillies'], ['avocado', 'fajita seasoning mix', 'lemon flavor yogurt', 'eggs', 'shredded Monterey Jack cheese', 'cornmeal'], ['eggplant', 'pizza doughs', 'grape tomatoes', 'extra-virgin olive oil', 'fresh mint', 'flour', 'garlic cloves', 'fontina', 'salt', 'fresh basil leaves'], ['boneless skinless chicken breasts', 'lime wedges', 'ground turmeric', 'plain low-fat yogurt', 'mango chutney', 'ground coriander', 'ground ginger', 'ground red pepper', 'salt', 'ground cumin', 'cooking spray', 'chili powder', 'garlic cloves'], ['mango', 'lime wedges', 'buttermilk', 'sugar'], ['cotija', 'whole wheat tortillas', 'boneless skinless chicken breast halves', 'black-eyed peas', 'purple onion', 'ground cumin', 'chopped tomatoes', 'vegetable broth', 'dried oregano', 'romaine lettuce', 'chili pepper flakes', 'lemon juice'], ['fish sauce', 'shallots', 'garlic cloves', 'Japanese turnips', 'rice vermicelli', 'fresh lime juice', 'light brown sugar', 'radishes', 'bone-in chicken breasts', 'fresno chiles', 'kosher salt', 'vegetable oil', 'sweet basil'], ['dried basil', 'bay leaves', 'garlic', 'beef broth', 'onions', 'green bell pepper', 'garlic powder', 'worcestershire sauce', 'salt', 'fresh parsley leaves', 'kosher salt', 'ground black pepper', 'diced tomatoes', 'all-purpose flour', 'diced celery', 'dried thyme', 'vegetable oil', 'boneless beef chuck roast', 'hot sauce'], ['black pepper', 'grated parmesan cheese', 'garlic cloves', 'large egg whites', 'green onions', 'fresh mint', 'phyllo dough', 'swiss chard', 'salt', 'fresh parsley', 'white onion', 'cooking spray', 'feta cheese crumbles'], ['mozzarella cheese', 'grated parmesan cheese', 'salt', 'chicken broth', 'ground pepper', 'diced tomatoes', 'arborio rice', 'olive oil', 'dry white wine', 'fresh basil', 'finely chopped onion', 'garlic'], ['sweet relish', 'iceberg lettuce', 'pineapple chunks', 'bay leaves', 'pepper', 'mayonaise', 'prepared mustard'], ['tomatoes', 'black pepper', 'zucchini', 'salt', 'eggs', 'manchego cheese', 'butter', 'all-purpose flour', 'melted butter', 'cream', 'epazote', 'crème fraîche', 'chicken broth', 'skim milk', 'ground nutmeg', 'garlic', 'onions'], ['mirin', 'soy sauce', 'garlic cloves', 'boneless chicken thighs', 'sugar', 'green onions'], ['fennel bulb', 'provolone cheese', 'yellow corn meal', 'sweet italian sausage', 'onions', 'water', 'pizza doughs', 'large eggs', 'red bell pepper'], ['grated parmesan cheese', 'whipping cream', 'fettucine', 'dried sage', 'diced tomatoes in juice', 'olive oil', 'large garlic cloves', 'sausage casings', 'shallots'], ['ground cinnamon', 'guajillo chiles', 'salt', 'ancho chile pepper', 'boiling water', 'white bread', 'sugar', 'raisins', 'chopped onion', 'fresh lime juice', 'unsweetened cocoa powder', 'tomatoes', 'ground cloves', 'vegetable broth', 'garlic cloves', 'toasted sesame seeds', 'ground cumin', 'tofu', 'slivered almonds', 'vegetable oil', 'cilantro leaves', 'corn tortillas', 'dried oregano'], ['lapsang', 'freshly ground pepper', 'granny smith apples', 'chicken breasts', 'red bell pepper', 'soy sauce', 'light mayonnaise', 'garlic cloves', 'fresh ginger', 'yellow bell pepper'], ['tomato paste', 'chopped fresh thyme', 'chopped onion', 'olive oil', 'diced tomatoes', 'large shrimp', 'fresh basil', 'large garlic cloves', 'red bell pepper', 'fennel seeds', 'dry white wine', 'kalamata'], ['purple onion', 'dried basil', 'plum tomatoes', 'bread slices', 'balsamic vinaigrette salad dressing', 'dried oregano'], ['sugar', 'baking soda', 'garlic', 'ramen', 'water', 'sesame oil', 'Chinese egg noodles', 'soy sauce', 'beef', 'oil', 'dark soy sauce', 'light soy sauce', 'choy sum', 'corn starch'], ['water', 'salt', 'pasta', 'parmesan cheese', 'lemon juice', 'olive oil', 'hot Italian sausages', 'minced garlic', 'whole wheat spaghetti', 'arugula'], ['kosher salt', 'duck fat', 'caraway seeds', 'unsalted butter', 'ground black pepper', 'sweet onion', 'yukon gold potatoes'], ['water', 'sesame oil', 'garlic cloves', 'red bell pepper', 'brown sugar', 'hoisin sauce', 'cooking wine', 'carrots', 'chicken', 'fresh ginger', 'crushed red pepper flakes', 'oyster sauce', 'celery', 'soy sauce', 'broccoli florets', 'rice vinegar', 'sliced mushrooms'], ['light soy sauce', 'salt', 'shao hsing wine', 'sugar', 'sesame oil', 'scallions', 'cold water', 'young ginger', 'peanut oil', 'noodles', 'white pepper', 'vegetable stock', 'oyster sauce'], ['asparagus', 'flank steak', 'garlic cloves', 'sake', 'green onions', 'dark brown sugar', 'red bell pepper', 'peeled fresh ginger', 'balsamic vinegar', 'corn starch', 'soy sauce', 'crimini mushrooms', 'peanut oil'], ['yellow corn meal', 'olive oil', 'yellow onion', 'pesto', 'salt', 'shrimp', 'vegetable oil cooking spray', 'grated parmesan cheese', 'pizza doughs', 'pepper', 'all-purpose flour', 'red bell pepper'], ['parmigiano reggiano cheese', 'fine sea salt', 'red wine vinegar', 'escarole', 'fennel bulb', 'extra-virgin olive oil', 'frisee', 'shallots', 'fresh lemon juice'], ['feta cheese', 'shrimp', 'cottage cheese', 'salt', 'tomatoes', 'fresh thyme', 'spaghetti', 'pepper', 'scallions'], ['short-grain rice', 'dry white wine', 'garlic cloves', 'baby spinach leaves', 'grated parmesan cheese', 'loosely packed fresh basil leaves', 'unsalted butter', 'Italian parsley leaves', 'low salt chicken broth', 'water', 'leeks', 'extra-virgin olive oil'], ['crushed tomatoes', 'vegetable oil', 'ground coriander', 'serrano chile', 'sugar', 'garam masala', 'salt', 'onions', 'tomato paste', 'fresh ginger', 'heavy cream', 'garlic cloves', 'ground cumin', 'plain yogurt', 'boneless skinless chicken breasts', 'cayenne pepper', 'chopped cilantro fresh'], ['coconut oil', 'vegetables', 'cumin seed', 'grated coconut', 'salt', 'red chili peppers', 'yoghurt', 'ground turmeric', 'curry leaves', 'water', 'green chilies'], ['bread', 'salt', 'chopped parsley', 'cumin', 'curry powder', 'lemon juice', 'yukon gold', 'minced garlic', 'nonfat yogurt plain', 'salad oil', 'cayenne', 'cucumber', 'onions'], ['clove', 'green peas', 'cinnamon sticks', 'water', 'cardamom pods', 'cashew nuts', 'slivered almonds', 'salt', 'onions', 'vegetable oil', 'cumin seed', 'basmati rice'], ['head on shrimp', 'garlic cloves', 'lemon', 'kosher salt', 'extra-virgin olive oil'], ['baby greens', 'vinaigrette', 'shallots', 'fresh chervil', 'mirlitons', 'coarse salt', 'chives', 'dill tips'], ['red lentils', 'pumpkin', 'extra-virgin olive oil', 'organic vegetable broth', 'ground cumin', 'ground black pepper', 'lime wedges', 'chopped onion', 'chopped cilantro fresh', 'ground ginger', 'ground red pepper', 'salt', 'garlic cloves', 'jalapeno chilies', 'diced tomatoes', 'ground coriander', 'ground turmeric'], ['olive oil', 'chickpeas', 'cooked rice', 'garam masala', 'onions', 'tomato paste', 'fresh ginger', 'chopped cilantro', 'crushed tomatoes', 'greek style plain yogurt', 'serrano chile'], ['sugar', 'strawberries', 'marsala wine'], ['pepper', 'bay leaves', 'adobo sauce', 'lime juice', 'salt', 'oregano', 'water', 'garlic', 'onions', 'ground cloves', 'beef', 'oil', 'ground cumin'], ['light brown sugar', 'cracked black pepper', 'cajun seasoning', 'cane syrup', 'cinnamon', 'ham', 'creole mustard', 'apple cider'], ['white sugar', 'water', 'quinces'], ['eggs', 'spring onions', 'ground white pepper', 'red chili peppers', 'oil', 'oysters', 'rice flour', 'fish sauce', 'cilantro leaves', 'beansprouts'], ['minced garlic', 'yukon gold potatoes', 'ground coriander', 'bone in chicken thighs', 'chicken legs', 'flour', 'Bengali 5 Spice', 'red bell pepper', 'fresh ginger', 'vegetable oil', 'carrots', 'kosher salt', 'bay leaves', 'yellow bell pepper', 'plain whole-milk yogurt'], ['baby spinach leaves', 'ginger', 'fish sauce', 'peanuts', 'chillies', 'lime', 'cilantro leaves', 'sugar', 'shallots'], ['tomatoes', 'butter', 'tomato ketchup', 'garlic cloves', 'garam masala', 'paneer', 'oil', 'bay leaf', 'red chili peppers', 'kasuri methi', 'green chilies', 'cinnamon sticks', 'clove', 'yoghurt', 'salt', 'cardamom', 'onions'], ['sea salt', 'nori', 'hard-boiled egg', 'edamame', 'brown rice', 'toasted sesame seeds', 'green tea', 'ginger'], ['dried basil', 'diced tomatoes', 'red bell pepper', 'tomato paste', 'red wine vinegar', 'extra-virgin olive oil', 'dried oregano', 'cooking spray', 'dry red wine', 'fresh parsley', 'kosher salt', 'large garlic cloves', 'chopped onion'], ['reduced fat cheddar cheese', 'cream style corn', 'diced tomatoes', 'whole kernel corn, drain', 'chicken broth', 'minced garlic', 'chili powder', 'salt', 'black pepper', 'processed cheese', 'mexicorn', 'long grain white rice', 'green bell pepper', 'water', 'chile pepper', 'yellow onion'], ['ground cinnamon', 'rolled oats', 'lemon', 'fine sea salt', 'natural vanilla extract', 'crumble topping', 'bourbon whiskey', 'extra-virgin olive oil', 'maple syrup', 'brown sugar', 'peaches', 'sea salt', 'pastry flour', 'black pepper', 'butter', 'vanilla extract', 'dark brown sugar'], ['sugar', 'heavy cream', 'large egg yolks', 'hazelnuts', 'whole milk'], ['chicken broth', 'olive oil', 'garlic', 'chicken', 'sweet onion', 'red wine', 'thyme', 'pearl onions', 'bacon', 'bay leaf', 'cremini mushrooms', 'flour', 'baby carrots'], ['worcestershire sauce', 'fresh lemon juice', 'mushrooms', 'anchovy fillets', 'unsalted butter', 'heavy cream', 'onions', 'rotelle', 'fresh parsley leaves'], ['lemon zest', 'vanilla extract', 'vegetable oil', 'cream cheese', 'flour tortillas', 'strawberries', 'sugar', 'cinnamon', 'sour cream'], ['fresh thyme', 'salt', 'juice', 'water', 'garlic', 'rice', 'tomato sauce', 'paprika', 'chickpeas', 'olive oil', 'purple onion', 'sweet paprika'], ['sugar pea', 'grated parmesan cheese', 'arborio rice', 'fat free less sodium chicken broth', 'dry white wine', 'cooked ham', 'olive oil', 'garlic cloves', 'black pepper', 'leeks'], ['fennel seeds', 'ground black pepper', 'yellow onion', 'tomato sauce', 'diced tomatoes', 'flat leaf parsley', 'fresh basil', 'red wine', 'garlic cloves', 'olive oil', 'salt', 'italian seasoning'], ['curry powder', 'green onions', 'coconut milk', 'tomato paste', 'fresh ginger', 'salt', 'red lentils', 'olive oil', 'brown rice', 'water', 'sweet potatoes', 'carrots'], ['refried beans', 'lean ground beef', 'tomatoes', 'flour tortillas', 'chopped cilantro', 'seasoning', 'shredded mild cheddar cheese', 'chopped onion', 'sausage casings', 'jalapeno chilies', 'sliced green onions'], ['asian eggplants', 'fresh ginger', 'basil leaves', 'garlic cloves', 'fresh coriander', 'roast', 'sauce', 'lime leaves', 'chicken stock', 'cherry tomatoes', 'mint leaves', 'green chilies', 'fresh pineapple', 'brown sugar', 'cooking oil', 'red curry paste', 'coconut milk'], ['sugar', 'pineapple', 'lime', 'watermelon', 'water', 'fresh lime juice'], ['vegetable oil', 'frozen strawberries', 'eggs', 'all-purpose flour', 'ground cinnamon', 'salt', 'white sugar', 'baking powder', 'chopped walnuts'], ['sugar', 'peeled fresh ginger', 'fresh lime juice', 'lower sodium soy sauce', 'light coconut milk', 'chile paste', 'shallots', 'boneless skinless chicken breast halves', 'cooking spray', 'salt'], ['wide rice noodles', 'soy sauce', 'honey', 'sesame oil', 'rice vinegar', 'chopped cilantro fresh', 'fish sauce', 'minced garlic', 'salt and ground black pepper', 'napa cabbage', 'celery', 'chicken stock', 'red chili peppers', 'lime', 'extra large shrimp', 'chili oil', 'onions', 'eggs', 'ketchup', 'peanuts', 'vegetable oil', 'garlic chili sauce'], ['salt', 'stewed tomatoes', 'celery', 'orzo pasta', 'cayenne pepper', 'garlic', 'ground lamb'], ['white vinegar', 'boneless chuck roast', 'garlic', 'ketchup', 'worcestershire sauce', 'cayenne pepper', 'brown sugar', 'ground black pepper', 'salt', 'water', 'dry mustard'], ['eggs', 'vanilla extract', 'chopped nuts', 'flour', 'chocolate chips', 'granulated sugar', 'pie shell', 'melted butter', 'bourbon whiskey'], ['garlic powder', 'frozen corn', 'chicken broth', 'chili powder', 'cumin', 'tomato paste', 'cooked chicken', 'corn tortillas', 'cheddar cheese', 'diced tomatoes'], ['diced green chilies', 'salt', 'enchilada sauce', 'light sour cream', 'chili powder', 'frozen corn kernels', 'cumin', 'egg noodles', 'cayenne pepper', 'ground beef', 'pepper', 'shredded sharp cheddar cheese', 'cream cheese', 'shredded Monterey Jack cheese'], ['canola', 'garlic', 'onions', 'fish sauce', 'green onions', 'red bell pepper', 'fresh ginger', 'oyster sauce', 'sugar', 'boneless skinless chicken breasts', 'cooked white rice'], ['chili', 'lime juice', 'sliced green onions', 'fresh cilantro', 'avocado', 'salt'], ['lime slices', 'cranberry juice', 'southern comfort', 'fresh lime juice'], ['whole wheat flour', 'maida flour', 'cubed potatoes', 'mustard seeds', 'warm water', 'garam masala', 'peas', 'cumin seed', 'sugar', 'baking soda', 'cilantro', 'green chilies', 'ground turmeric', 'semolina', 'seeds', 'salt', 'oil'], ['chicken broth', 'pork tenderloin', 'olive oil', 'large garlic cloves', 'sun-dried tomatoes', 'fresh rosemary', 'dry white wine'], ['warm water', 'grated parmesan cheese', 'marjoram', 'dried basil', 'salt', 'bread flour', 'active dry yeast', 'butter', 'white sugar', 'dried thyme', 'dry milk powder', 'dried oregano'], ['sugar', 'anchovy paste', 'scallions', 'fresh ginger', 'salt', 'nori', 'soy sauce', 'buckwheat noodles', 'carrots', 'mirin', 'rice vinegar']]\n"
          ]
        },
        {
          "name": "stderr",
          "output_type": "stream",
          "text": [
            "/usr/local/lib/python3.10/dist-packages/ipykernel/ipkernel.py:283: DeprecationWarning: `should_run_async` will not call `transform_cell` automatically in the future. Please pass the result to `transformed_cell` argument and any exception that happen during thetransform in `preprocessing_exc_tuple` in IPython 7.17 and above.\n",
            "  and should_run_async(code)\n"
          ]
        }
      ],
      "source": [
        "# all_ingredients 리스트에는 모든 ingredients가 저장되어 있습니다.\n",
        "print(all_ingredients)"
      ]
    },
    {
      "cell_type": "code",
      "execution_count": null,
      "metadata": {
        "colab": {
          "base_uri": "https://localhost:8080/"
        },
        "id": "WMtL03TOcf0_",
        "outputId": "acab9217-996c-40cd-db96-2787d396452a"
      },
      "outputs": [
        {
          "name": "stderr",
          "output_type": "stream",
          "text": [
            "/usr/local/lib/python3.10/dist-packages/ipykernel/ipkernel.py:283: DeprecationWarning: `should_run_async` will not call `transform_cell` automatically in the future. Please pass the result to `transformed_cell` argument and any exception that happen during thetransform in `preprocessing_exc_tuple` in IPython 7.17 and above.\n",
            "  and should_run_async(code)\n"
          ]
        }
      ],
      "source": [
        "te = TransactionEncoder()\n",
        "te_array = te.fit_transform(all_ingredients)\n",
        "df = pd.DataFrame(te_array, columns=te.columns_)"
      ]
    },
    {
      "cell_type": "code",
      "execution_count": null,
      "metadata": {
        "colab": {
          "base_uri": "https://localhost:8080/"
        },
        "collapsed": true,
        "id": "JGqzXz_Dm25o",
        "outputId": "c35c0242-fc52-4218-9b7b-40f5fabfed13"
      },
      "outputs": [
        {
          "name": "stdout",
          "output_type": "stream",
          "text": [
            "    Bengali 5 Spice  Chinese egg noodles  Italian parsley leaves  \\\n",
            "0             False                False                   False   \n",
            "1             False                False                   False   \n",
            "2             False                False                   False   \n",
            "3             False                False                   False   \n",
            "4             False                False                   False   \n",
            "..              ...                  ...                     ...   \n",
            "94            False                False                   False   \n",
            "95            False                False                   False   \n",
            "96            False                False                   False   \n",
            "97            False                False                   False   \n",
            "98            False                False                   False   \n",
            "\n",
            "    Japanese turnips  Sriracha  active dry yeast  adobo sauce  \\\n",
            "0              False     False             False        False   \n",
            "1              False     False             False        False   \n",
            "2              False     False             False        False   \n",
            "3              False     False             False        False   \n",
            "4              False     False             False        False   \n",
            "..               ...       ...               ...          ...   \n",
            "94             False     False             False        False   \n",
            "95             False     False             False        False   \n",
            "96             False     False             False        False   \n",
            "97             False     False              True        False   \n",
            "98             False     False             False        False   \n",
            "\n",
            "    all purpose unbleached flour  all-purpose flour  amaretto liqueur  ...  \\\n",
            "0                          False              False             False  ...   \n",
            "1                          False              False             False  ...   \n",
            "2                          False               True             False  ...   \n",
            "3                          False              False             False  ...   \n",
            "4                          False              False             False  ...   \n",
            "..                           ...                ...               ...  ...   \n",
            "94                         False              False             False  ...   \n",
            "95                         False              False             False  ...   \n",
            "96                         False              False             False  ...   \n",
            "97                         False              False             False  ...   \n",
            "98                         False              False             False  ...   \n",
            "\n",
            "    worcestershire sauce  yellow bell pepper  yellow corn meal  yellow onion  \\\n",
            "0                  False               False             False         False   \n",
            "1                  False               False             False         False   \n",
            "2                  False               False              True         False   \n",
            "3                  False               False             False         False   \n",
            "4                  False               False             False         False   \n",
            "..                   ...                 ...               ...           ...   \n",
            "94                 False               False             False         False   \n",
            "95                 False               False             False         False   \n",
            "96                 False               False             False         False   \n",
            "97                 False               False             False         False   \n",
            "98                 False               False             False         False   \n",
            "\n",
            "    yoghurt  young ginger  yukon gold  yukon gold potatoes  zabaglione  \\\n",
            "0     False         False       False                False       False   \n",
            "1     False         False       False                False       False   \n",
            "2     False         False       False                False        True   \n",
            "3     False         False       False                False       False   \n",
            "4     False         False       False                False       False   \n",
            "..      ...           ...         ...                  ...         ...   \n",
            "94    False         False       False                False       False   \n",
            "95    False         False       False                False       False   \n",
            "96    False         False       False                False       False   \n",
            "97    False         False       False                False       False   \n",
            "98    False         False       False                False       False   \n",
            "\n",
            "    zucchini  \n",
            "0      False  \n",
            "1      False  \n",
            "2      False  \n",
            "3      False  \n",
            "4      False  \n",
            "..       ...  \n",
            "94     False  \n",
            "95     False  \n",
            "96     False  \n",
            "97     False  \n",
            "98     False  \n",
            "\n",
            "[99 rows x 517 columns]\n"
          ]
        },
        {
          "name": "stderr",
          "output_type": "stream",
          "text": [
            "/usr/local/lib/python3.10/dist-packages/ipykernel/ipkernel.py:283: DeprecationWarning: `should_run_async` will not call `transform_cell` automatically in the future. Please pass the result to `transformed_cell` argument and any exception that happen during thetransform in `preprocessing_exc_tuple` in IPython 7.17 and above.\n",
            "  and should_run_async(code)\n"
          ]
        }
      ],
      "source": [
        "print(df)"
      ]
    },
    {
      "cell_type": "code",
      "execution_count": null,
      "metadata": {
        "colab": {
          "background_save": true,
          "base_uri": "https://localhost:8080/"
        },
        "id": "cDqWTo5veBvE",
        "outputId": "26340a9d-7f91-43d5-e3c6-ac3a89d6013a"
      },
      "outputs": [
        {
          "name": "stderr",
          "output_type": "stream",
          "text": [
            "/usr/local/lib/python3.10/dist-packages/ipykernel/ipkernel.py:283: DeprecationWarning: `should_run_async` will not call `transform_cell` automatically in the future. Please pass the result to `transformed_cell` argument and any exception that happen during thetransform in `preprocessing_exc_tuple` in IPython 7.17 and above.\n",
            "  and should_run_async(code)\n"
          ]
        }
      ],
      "source": [
        "frequent_itemsets = apriori(df, min_support=0.01, use_colnames=True)\n"
      ]
    },
    {
      "cell_type": "code",
      "execution_count": null,
      "metadata": {
        "id": "wmZBz8QPeZEW"
      },
      "outputs": [],
      "source": [
        "# 연관 규칙 도출\n",
        "min_confidence = 0.1  # 최소 신뢰도\n",
        "rules = association_rules(frequent_itemsets, metric=\"confidence\", min_threshold=min_confidence)\n"
      ]
    },
    {
      "cell_type": "markdown",
      "metadata": {
        "id": "i61iJZKVfRug"
      },
      "source": [
        "레시피 조합 찾기\n",
        "역으로 데이터 조합이 발견된 레시피 나열 + 레시피 메뉴 이름, 장르 표시\n",
        "변경할 재료 표시"
      ]
    },
    {
      "cell_type": "code",
      "execution_count": null,
      "metadata": {
        "id": "atGCGqEFfj8Z"
      },
      "outputs": [],
      "source": [
        "print(\"Frequent Itemsets:\")\n",
        "print(frequent_itemsets)"
      ]
    },
    {
      "cell_type": "code",
      "execution_count": null,
      "metadata": {
        "id": "4FAq9TBbgCe4"
      },
      "outputs": [],
      "source": [
        "print(\"Frequent Itemsets:\")\n",
        "print(frequent_itemsets[frequent_itemsets['itemsets'].apply(lambda x: len(x) >= 2)])\n"
      ]
    },
    {
      "cell_type": "code",
      "execution_count": null,
      "metadata": {
        "id": "EMamRKatgjgX"
      },
      "outputs": [],
      "source": [
        "import networkx as nx\n",
        "import matplotlib.pyplot as plt\n",
        "\n",
        "# 그래프 생성\n",
        "G = nx.Graph()\n",
        "\n",
        "# 연관 규칙의 아이템셋과 연결 관계를 그래프에 추가\n",
        "for rule in association_rules:\n",
        "    items = list(rule[0])\n",
        "    G.add_edges_from([(items[i], items[i+1]) for i in range(len(items)-1)])\n",
        "\n",
        "# 그래프 그리기\n",
        "plt.figure(figsize=(10, 10))\n",
        "pos = nx.spring_layout(G, seed=42)\n",
        "nx.draw_networkx(G, pos, with_labels=True, node_size=500, font_size=12, font_color='black', edge_color='gray', width=1)\n",
        "plt.axis('off')\n",
        "plt.show()\n"
      ]
    },
    {
      "cell_type": "code",
      "execution_count": null,
      "metadata": {
        "id": "uFLAoRFredBe"
      },
      "outputs": [],
      "source": [
        "\n",
        "# 결과 출력\n",
        "\n",
        "\n",
        "print(\"\\nAssociation Rules:\")\n",
        "print(rules)"
      ]
    },
    {
      "cell_type": "code",
      "execution_count": null,
      "metadata": {
        "id": "cACQPcC0cBn3"
      },
      "outputs": [],
      "source": [
        "import random\n",
        "\n",
        "# ingredients 리스트를 샘플링\n",
        "sampled_ingredients = random.sample(ingredients, k=int(len(ingredients) * 0.5))\n",
        "\n",
        "# 추출한 샘플 데이터를 사용하여 원-핫 인코딩\n",
        "te = TransactionEncoder()\n",
        "te_array = te.fit_transform([sampled_ingredients])\n",
        "df = pd.DataFrame(te_array, columns=te.columns_)"
      ]
    }
  ],
  "metadata": {
    "accelerator": "TPU",
    "colab": {
      "gpuType": "V28",
      "provenance": [],
      "mount_file_id": "1WglDwKTcGcK3iBnm0l1jmdfJsFGayb6l",
      "authorship_tag": "ABX9TyOxDEAfCPRapSYKPqTkS0t2",
      "include_colab_link": true
    },
    "kernelspec": {
      "display_name": "Python 3",
      "name": "python3"
    },
    "language_info": {
      "name": "python"
    }
  },
  "nbformat": 4,
  "nbformat_minor": 0
}